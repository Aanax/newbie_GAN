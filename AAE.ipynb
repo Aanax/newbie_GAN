{
 "cells": [
  {
   "cell_type": "code",
   "execution_count": 1,
   "metadata": {
    "collapsed": false
   },
   "outputs": [],
   "source": [
    "from sklearn.datasets import load_digits"
   ]
  },
  {
   "cell_type": "code",
   "execution_count": 2,
   "metadata": {
    "collapsed": true
   },
   "outputs": [],
   "source": [
    "import numpy as np\n",
    "from sklearn.externals import joblib"
   ]
  },
  {
   "cell_type": "code",
   "execution_count": 3,
   "metadata": {
    "collapsed": false
   },
   "outputs": [],
   "source": [
    "from sklearn.datasets.mldata import fetch_mldata\n",
    "mnist = fetch_mldata('mnist-original')#, data_home='./data')"
   ]
  },
  {
   "cell_type": "code",
   "execution_count": 4,
   "metadata": {
    "collapsed": false
   },
   "outputs": [],
   "source": [
    "#mnist['data'][0]#.keys()"
   ]
  },
  {
   "cell_type": "code",
   "execution_count": 10,
   "metadata": {
    "collapsed": false
   },
   "outputs": [],
   "source": [
    "showpic(mnist['data'][550],n=28)"
   ]
  },
  {
   "cell_type": "code",
   "execution_count": 6,
   "metadata": {
    "collapsed": false
   },
   "outputs": [],
   "source": [
    "\n",
    "#X, y = load_digits(n_class=1,return_X_y=True)\n",
    "X=mnist[\"data\"]\n",
    "y=mnist[\"target\"]"
   ]
  },
  {
   "cell_type": "code",
   "execution_count": 7,
   "metadata": {
    "collapsed": false
   },
   "outputs": [],
   "source": [
    "from PIL import Image"
   ]
  },
  {
   "cell_type": "code",
   "execution_count": 23,
   "metadata": {
    "collapsed": false
   },
   "outputs": [],
   "source": [
    "def showdigit(index,multiplier=70,size=200, n = 28):\n",
    "    tstimage1= Image.fromarray(X[index].reshape((n,n)) * multiplier)\n",
    "    tstimage1 = tstimage1.convert('L')\n",
    "    tstimage1 = tstimage1.resize((size,size))\n",
    "    tstimage1.show()"
   ]
  },
  {
   "cell_type": "code",
   "execution_count": 24,
   "metadata": {
    "collapsed": true
   },
   "outputs": [],
   "source": [
    "def showpic(digit,multiplier=70,size=200, n=28):\n",
    "    tstimage1= Image.fromarray(digit.reshape((n,n)) * multiplier)\n",
    "    tstimage1 = tstimage1.convert('L')\n",
    "    tstimage1 = tstimage1.resize((size,size))\n",
    "    tstimage1.show()"
   ]
  },
  {
   "cell_type": "code",
   "execution_count": 11,
   "metadata": {
    "collapsed": false
   },
   "outputs": [
    {
     "name": "stderr",
     "output_type": "stream",
     "text": [
      "Using Theano backend.\n"
     ]
    }
   ],
   "source": [
    "from keras.models import Model, Sequential\n",
    "from keras.layers import Flatten,Dropout, Dense, Input,merge"
   ]
  },
  {
   "cell_type": "code",
   "execution_count": 36,
   "metadata": {
    "collapsed": false
   },
   "outputs": [],
   "source": [
    "\n",
    "input_dist = Input(shape=(784,),name = \"input_dist\")\n",
    "input_data = Input(shape=(784,), name = \"input_data\")\n",
    "\n",
    "\n",
    "encoder_1 = Dense(784,activation = 'relu', name = \"encoder_1\")\n",
    "encoder_2 = Dense(300,activation = 'relu', name = \"encoder_2\")\n",
    "encoder_3 = Dense(20,activation = 'softmax', name = \"encoder_3\")\n",
    "\n",
    "encoder = encoder_1(input_data)\n",
    "encoder = encoder_2(encoder)\n",
    "encoder_out = encoder_3(encoder)\n",
    "\n",
    "decoder_1 = Dense(200,activation = 'relu',name = \"decoder_1\")\n",
    "decoder_2 = Dense(784,activation = 'relu', name = \"decoder_2\")\n",
    "\n",
    "decoder = decoder_1(encoder_out)\n",
    "decoder_out = decoder_2(decoder)\n",
    "\n",
    "generator_1 = Dense(20,activation = 'relu', name = \"generator_1\")\n",
    "\n",
    "generator_out = generator_1(input_dist)\n",
    "\n",
    "\n",
    "merged_vector = merge([encoder_out,generator_out], mode='sum',output_shape=(20,), name = \"merge\")\n",
    "\n",
    "#predictions1 = Dense()\n",
    "predictions = Dense(1, activation='relu')(merged_vector)\n",
    "\n",
    "model = Model(input=[input_data,input_dist], output= [predictions,decoder_out])\n",
    "#just_autoencoder = Model(input=input_data, output= decoder_out)"
   ]
  },
  {
   "cell_type": "code",
   "execution_count": 13,
   "metadata": {
    "collapsed": false
   },
   "outputs": [],
   "source": [
    "#model=joblib.load(\"Sigmoid20epoch5gen.pkl\")"
   ]
  },
  {
   "cell_type": "code",
   "execution_count": 15,
   "metadata": {
    "collapsed": false
   },
   "outputs": [
    {
     "name": "stdout",
     "output_type": "stream",
     "text": [
      "input_data\n",
      "encoder_1\n",
      "encoder_2\n",
      "input_dist\n",
      "encoder_3\n",
      "generator_1\n",
      "decoder_1\n",
      "merge\n",
      "decoder_2\n",
      "dense_1\n"
     ]
    }
   ],
   "source": [
    "for i in model.layers:\n",
    "    print(i.name)#[4].trainable"
   ]
  },
  {
   "cell_type": "code",
   "execution_count": null,
   "metadata": {
    "collapsed": true
   },
   "outputs": [],
   "source": []
  },
  {
   "cell_type": "code",
   "execution_count": 16,
   "metadata": {
    "collapsed": false
   },
   "outputs": [],
   "source": [
    "def generator_error(y_true,y_pred):\n",
    "    #y_pred = np.array(y_pred)\n",
    "    return np.log(np.ones(y_pred.shape)-y_pred).sum()"
   ]
  },
  {
   "cell_type": "code",
   "execution_count": 17,
   "metadata": {
    "collapsed": false
   },
   "outputs": [],
   "source": [
    "from theano.tensor import basic as tensor, subtensor\n",
    "def generator_error_theano(y_true,y_pred):\n",
    "    '''\n",
    "    TODO write normalisation\n",
    "    '''\n",
    "    return -tensor.log(1.0 - y_pred)  #-(target * tensor.log(output) + (1.0 - target) *\n",
    "    #return -tensor.log(1.0 + (y_pred-1.0))"
   ]
  },
  {
   "cell_type": "code",
   "execution_count": 18,
   "metadata": {
    "collapsed": true
   },
   "outputs": [],
   "source": [
    "def tester_error(y_true,y_pred):\n",
    "    y_pred = np.array(y_pred)\n",
    "    #log(pred) if true = 0\n",
    "    #log(1-pred) if true=1\n",
    "    return np.log(y_true - y_pred*((-1)**(y_true+1))).sum()"
   ]
  },
  {
   "cell_type": "code",
   "execution_count": 19,
   "metadata": {
    "collapsed": true
   },
   "outputs": [],
   "source": [
    "def tester_error_theano(target,output):\n",
    "    '''\n",
    "    y_true = 0 -> it was real\n",
    "    '''\n",
    "    \n",
    "    return -((target) * tensor.log(output) + (1.0 - target) * tensor.log(1.0 - output))\n",
    "\n"
   ]
  },
  {
   "cell_type": "code",
   "execution_count": 20,
   "metadata": {
    "collapsed": true
   },
   "outputs": [],
   "source": [
    "def generate_input(length=64,bottom_border =0 ,top_border=1):\n",
    "    '''\n",
    "    generates list of length length with trash from custom distribution.\n",
    "    '''\n",
    "    return 0"
   ]
  },
  {
   "cell_type": "code",
   "execution_count": 21,
   "metadata": {
    "collapsed": true
   },
   "outputs": [],
   "source": [
    "npx = np.array(X)"
   ]
  },
  {
   "cell_type": "code",
   "execution_count": null,
   "metadata": {
    "collapsed": true
   },
   "outputs": [],
   "source": []
  },
  {
   "cell_type": "code",
   "execution_count": 29,
   "metadata": {
    "collapsed": false
   },
   "outputs": [],
   "source": [
    "showpic(X[30])\n"
   ]
  },
  {
   "cell_type": "code",
   "execution_count": 27,
   "metadata": {
    "collapsed": false
   },
   "outputs": [],
   "source": [
    "bottom = np.array(X).min()\n",
    "top = np.array(X).max()"
   ]
  },
  {
   "cell_type": "code",
   "execution_count": 28,
   "metadata": {
    "collapsed": false
   },
   "outputs": [],
   "source": [
    "X = X/top"
   ]
  },
  {
   "cell_type": "code",
   "execution_count": 30,
   "metadata": {
    "collapsed": false
   },
   "outputs": [
    {
     "data": {
      "text/plain": [
       "255"
      ]
     },
     "execution_count": 30,
     "metadata": {},
     "output_type": "execute_result"
    }
   ],
   "source": [
    "top"
   ]
  },
  {
   "cell_type": "code",
   "execution_count": 313,
   "metadata": {
    "collapsed": false
   },
   "outputs": [],
   "source": [
    "generator_layers = 1\n",
    "tester_train_steps = 1\n",
    "n_epoch = 500\n",
    "xnum=0"
   ]
  },
  {
   "cell_type": "code",
   "execution_count": 314,
   "metadata": {
    "collapsed": false
   },
   "outputs": [],
   "source": [
    "from keras.optimizers import SGD\n",
    "\n",
    "opt = SGD(lr = 0.00001)"
   ]
  },
  {
   "cell_type": "code",
   "execution_count": 31,
   "metadata": {
    "collapsed": true
   },
   "outputs": [],
   "source": [
    "#just_autoencoder.compile(\"adam\" , loss = \"mse\")"
   ]
  },
  {
   "cell_type": "code",
   "execution_count": 32,
   "metadata": {
    "collapsed": false
   },
   "outputs": [
    {
     "data": {
      "text/plain": [
       "(70000, 784)"
      ]
     },
     "execution_count": 32,
     "metadata": {},
     "output_type": "execute_result"
    }
   ],
   "source": [
    "X.shape"
   ]
  },
  {
   "cell_type": "code",
   "execution_count": 33,
   "metadata": {
    "collapsed": false
   },
   "outputs": [],
   "source": [
    "#just_autoencoder.fit(X,X,nb_epoch = 2,verbose = 1)"
   ]
  },
  {
   "cell_type": "code",
   "execution_count": 343,
   "metadata": {
    "collapsed": false
   },
   "outputs": [],
   "source": [
    "#showpic(just_autoencoder.predict(X[50003].reshape((-1,784))),n=28)"
   ]
  },
  {
   "cell_type": "code",
   "execution_count": 283,
   "metadata": {
    "collapsed": true
   },
   "outputs": [],
   "source": [
    "#showpic(just_autoencoder.predict(X[11].reshape((-1,64))))"
   ]
  },
  {
   "cell_type": "code",
   "execution_count": 34,
   "metadata": {
    "collapsed": true
   },
   "outputs": [],
   "source": [
    "#showpic(just_autoencoder.predict(X[50023].reshape((-1,784))),n=28)"
   ]
  },
  {
   "cell_type": "code",
   "execution_count": null,
   "metadata": {
    "collapsed": true
   },
   "outputs": [],
   "source": []
  },
  {
   "cell_type": "code",
   "execution_count": null,
   "metadata": {
    "collapsed": true
   },
   "outputs": [],
   "source": []
  },
  {
   "cell_type": "markdown",
   "metadata": {
    "collapsed": true
   },
   "source": [
    "Updates: autoencoder -> guesser -> generator"
   ]
  },
  {
   "cell_type": "code",
   "execution_count": 35,
   "metadata": {
    "collapsed": false
   },
   "outputs": [
    {
     "ename": "NameError",
     "evalue": "name 'n_epoch' is not defined",
     "output_type": "error",
     "traceback": [
      "\u001b[1;31m---------------------------------------------------------------------------\u001b[0m",
      "\u001b[1;31mNameError\u001b[0m                                 Traceback (most recent call last)",
      "\u001b[1;32m<ipython-input-35-f973b986fa9b>\u001b[0m in \u001b[0;36m<module>\u001b[1;34m()\u001b[0m\n\u001b[1;32m----> 1\u001b[1;33m \u001b[1;32mfor\u001b[0m \u001b[0mepoch\u001b[0m \u001b[1;32min\u001b[0m \u001b[0mrange\u001b[0m\u001b[1;33m(\u001b[0m\u001b[1;36m0\u001b[0m\u001b[1;33m,\u001b[0m\u001b[0mn_epoch\u001b[0m\u001b[1;33m)\u001b[0m\u001b[1;33m:\u001b[0m\u001b[1;33m\u001b[0m\u001b[0m\n\u001b[0m\u001b[0;32m      2\u001b[0m \u001b[1;33m\u001b[0m\u001b[0m\n\u001b[0;32m      3\u001b[0m     \u001b[0mprint\u001b[0m\u001b[1;33m(\u001b[0m\u001b[1;34m\"Epoch \"\u001b[0m\u001b[1;33m,\u001b[0m\u001b[0mepoch\u001b[0m\u001b[1;33m)\u001b[0m\u001b[1;31m#,\"Iter \",xnum)\u001b[0m\u001b[1;33m\u001b[0m\u001b[0m\n\u001b[0;32m      4\u001b[0m     \u001b[1;32mfor\u001b[0m \u001b[0mxnum\u001b[0m \u001b[1;32min\u001b[0m \u001b[0mrange\u001b[0m\u001b[1;33m(\u001b[0m\u001b[1;36m0\u001b[0m\u001b[1;33m,\u001b[0m\u001b[0mlen\u001b[0m\u001b[1;33m(\u001b[0m\u001b[0mX\u001b[0m\u001b[1;33m)\u001b[0m\u001b[1;33m)\u001b[0m\u001b[1;33m:\u001b[0m\u001b[1;33m\u001b[0m\u001b[0m\n\u001b[0;32m      5\u001b[0m \u001b[1;33m\u001b[0m\u001b[0m\n",
      "\u001b[1;31mNameError\u001b[0m: name 'n_epoch' is not defined"
     ]
    }
   ],
   "source": [
    "for epoch in range(0,n_epoch):\n",
    "    \n",
    "    print(\"Epoch \",epoch)#,\"Iter \",xnum)\n",
    "    for xnum in range(0,len(X)):\n",
    "        \n",
    "        #freezing generator\n",
    "        for i in model.layers:\n",
    "            if \"generator\" in i.name:\n",
    "                i.trainable = False\n",
    "        #freezing tester\n",
    "        model.layers[-1].trainable = False\n",
    "        \n",
    "        model.compile(opt , loss = [Nobody_Cares,\"mse\"])\n",
    "        \n",
    "        for i in range(num_encoder_train):\n",
    "            #first data then dist\n",
    "            model.train_on_batch([np.array(X[xnum]).reshape((-1,64)),np.zeros((64,)).reshape((-1,64))])\n",
    "        \n",
    "        #unfreezing tester\n",
    "        model.layers[-1].trainable = True\n",
    "        \n",
    "        #freezing encoder\n",
    "        for i in model.layers:\n",
    "            if \"encoder\" or \"decoder\" in i.name:\n",
    "                i.trainable = False\n",
    "                \n",
    "        model.compile(opt , loss = [tester_error_theano,Nobody_Cares])\n",
    "        #doing tester_train_steps of tester training\n",
    "        for k in range(0,tester_train_steps):\n",
    "            #for xnum in range(0,len(X)):\n",
    "            model.train_on_batch([np.array(X[xnum]).reshape((-1,64)),np.zeros((64,)).reshape((-1,64))],np.array([0.0])) #inputs original image\n",
    "            model.train_on_batch([np.zeros((64,)).reshape((-1,64)),np.random.uniform(bottom,top,64).reshape((-1,64))],np.array([1.0])) #inputs noise to generator\n",
    "            \n",
    "\n",
    "        #Unfreezing generator        \n",
    "        for i in model.layers:\n",
    "            if \"generator\" in i.name:\n",
    "                i.trainable = True\n",
    "        #freezing tester\n",
    "        model.layers[-1].trainable = False\n",
    "        model.compile(opt, loss = [generator_error_theano,Nobody_Cares])\n",
    "        #doing ? steps of generator training\n",
    "        for nn in range(0,3):\n",
    "            model.train_on_batch([np.zeros((64,)).reshape((-1,64)),np.random.uniform(bottom,top,64).reshape((-1,64))],np.array([1.0])) #inputs noise to generator"
   ]
  },
  {
   "cell_type": "code",
   "execution_count": 139,
   "metadata": {
    "collapsed": false
   },
   "outputs": [],
   "source": [
    "pred = model.predict([np.random.uniform(bottom,top,64).reshape((-1,64)),np.zeros((64,)).reshape((-1,64))])"
   ]
  },
  {
   "cell_type": "code",
   "execution_count": 146,
   "metadata": {
    "collapsed": false
   },
   "outputs": [],
   "source": [
    "\n",
    "pred2 = model.predict([np.zeros((64,)).reshape((-1,64)),np.array(X[44]).reshape((-1,64))])"
   ]
  },
  {
   "cell_type": "code",
   "execution_count": 147,
   "metadata": {
    "collapsed": false
   },
   "outputs": [
    {
     "data": {
      "text/plain": [
       "array([[ 0.024002]], dtype=float32)"
      ]
     },
     "execution_count": 147,
     "metadata": {},
     "output_type": "execute_result"
    }
   ],
   "source": [
    "pred2"
   ]
  },
  {
   "cell_type": "code",
   "execution_count": 122,
   "metadata": {
    "collapsed": false
   },
   "outputs": [],
   "source": [
    "import theano\n",
    "get_activations = theano.function([model.layers[0].input], model.layers[1].output, allow_input_downcast=True)\n",
    "#activations = get_activations(X_batch) # same result as above"
   ]
  },
  {
   "cell_type": "code",
   "execution_count": 150,
   "metadata": {
    "collapsed": false
   },
   "outputs": [],
   "source": [
    "tst = np.random.uniform(bottom,top,64).reshape((-1,64))\n",
    "showpic(tst,size=500,multiplier = 20)\n",
    "Generated = get_activations(tst)\n",
    "showpic(Generated,size=500,multiplier = 20)\n",
    "showdigit(np.random.randint(low=0,high=120),size=500,multiplier = 20)"
   ]
  },
  {
   "cell_type": "code",
   "execution_count": null,
   "metadata": {
    "collapsed": false
   },
   "outputs": [],
   "source": []
  },
  {
   "cell_type": "code",
   "execution_count": 151,
   "metadata": {
    "collapsed": false
   },
   "outputs": [
    {
     "data": {
      "text/plain": [
       "['Sigmoid500epoch3gen.pkl']"
      ]
     },
     "execution_count": 151,
     "metadata": {},
     "output_type": "execute_result"
    }
   ],
   "source": [
    "joblib.dump(model,\"Sigmoid500epoch3gen.pkl\",compress=9)"
   ]
  },
  {
   "cell_type": "code",
   "execution_count": null,
   "metadata": {
    "collapsed": true
   },
   "outputs": [],
   "source": []
  },
  {
   "cell_type": "code",
   "execution_count": null,
   "metadata": {
    "collapsed": true
   },
   "outputs": [],
   "source": []
  }
 ],
 "metadata": {
  "anaconda-cloud": {},
  "kernelspec": {
   "display_name": "Python 3",
   "language": "python",
   "name": "python3"
  },
  "language_info": {
   "codemirror_mode": {
    "name": "ipython",
    "version": 3
   },
   "file_extension": ".py",
   "mimetype": "text/x-python",
   "name": "python",
   "nbconvert_exporter": "python",
   "pygments_lexer": "ipython3",
   "version": "3.5.2"
  }
 },
 "nbformat": 4,
 "nbformat_minor": 0
}
